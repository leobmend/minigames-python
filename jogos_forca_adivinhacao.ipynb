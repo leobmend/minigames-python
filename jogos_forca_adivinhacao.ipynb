{
  "nbformat": 4,
  "nbformat_minor": 0,
  "metadata": {
    "colab": {
      "name": "jogos-forca-adivinhacao.ipynb",
      "provenance": [],
      "authorship_tag": "ABX9TyMpw5jBkiMNc/g7VuQpRQ+L",
      "include_colab_link": true
    },
    "kernelspec": {
      "name": "python3",
      "display_name": "Python 3"
    },
    "language_info": {
      "name": "python"
    }
  },
  "cells": [
    {
      "cell_type": "markdown",
      "metadata": {
        "id": "view-in-github",
        "colab_type": "text"
      },
      "source": [
        "<a href=\"https://colab.research.google.com/github/leobmend/minigames-python/blob/master/jogos_forca_adivinhacao.ipynb\" target=\"_parent\"><img src=\"https://colab.research.google.com/assets/colab-badge.svg\" alt=\"Open In Colab\"/></a>"
      ]
    },
    {
      "cell_type": "markdown",
      "metadata": {
        "id": "B5IsH7mmki1f"
      },
      "source": [
        "# **JOGOS**\n",
        "\n",
        "Bem vindo à minha primeira experimentação em python!\n",
        "\n",
        "A partir dos cursos da Alura Cursos Online de Python 3, ministrados pelo instrutor Nico Steppat ([Linkedin](https://www.linkedin.com/in/steppat/)), realizei o desenvolvimento de dois jogos clássico, o **Adivinhaçã**o e o **Forca**.\n",
        "\n",
        "Nas aulas, foram abordados os seguintes aspectos de Python 3:\n",
        "*   Introdução à linguagem, instalação da linguagem, instalação da IDE (tomei a decisão de não utilizá-la, partindo para a ferramenta do Google Colab)\n",
        "*   Diferenças para outras linguagens clássicas: Tipagem dinâmica, declaração de variáveis, funções built-in, tipos de dados e suas manipulações.\n",
        "*   Sequências típicas do Pyton e iterações possíveis sob tais elementos tão comuns na linguagem.\n",
        "*   Definição de funções e boa prática de código, o organizando em pequenas funções.\n",
        "\n",
        "Das atividades propostas no curso, resta apenas a refatoração do código em pequenas funções, com o objetivo conforme descrito pelo prórpio instrutor a seguir:\n",
        "\n",
        "\"Sabemos que quebrar uma grande função complexa em pequenas funções é uma boa prática por causa de diversos fatores, mas podemos citar como os principais deles:\n",
        "\n",
        "*  Dar manutenção ao código fica muito mais fácil, visto que agora podemos examinar vários pequenos blocos, que são muito mais fáceis de compreender do que um grande bloco de código.\n",
        "*  Ao quebrar uma grande função, também estamos deixando ela com menos responsabilidades, com a meta de atingir o ideal de que cada função tenha apenas uma única responsabilidade.\n",
        "*  O código também fica muito mais fácil de testar, pois se temos diversas funções pequenas, conseguimos testar uma a uma em busca de erros no código.\n",
        "*  E por último, a legibilidade do código aumenta muito, pois dando nomes semânticos a cada uma das funções menores, conseguimos deixar bem claro o que aquela parte do código deve fazer e facilita o entendimento do todo como um geral.\""
      ]
    },
    {
      "cell_type": "markdown",
      "metadata": {
        "id": "8iOFGYWfpn7R"
      },
      "source": [
        "# DEFINIÇÃO DOS JOGOS\n",
        "\n",
        "Aqui temos a definição dos dois jogos, com todo o código para sua execução."
      ]
    },
    {
      "cell_type": "code",
      "metadata": {
        "id": "zaT-WRs-ZmZ2"
      },
      "source": [
        "#### DEFINIÇÃO ADIVINHAÇÃO ####\n",
        "\n",
        "def adivinhacao():\n",
        "\n",
        "  import random\n",
        "\n",
        "  print(\"*********************************\")\n",
        "  print(\"Bem vindo ao jogo de Adivinhação!\")\n",
        "  print(\"*********************************\")\n",
        "\n",
        "  numero_secreto = random.randrange(1, 101)\n",
        "  total_de_tentativas = 0\n",
        "  pontos = 1000\n",
        "\n",
        "  print(\"\\nQual o nível de dificuldade?\")\n",
        "  print(\"(1) Fácil (2) Médio (3) Difícil\")\n",
        "\n",
        "  while(True):\n",
        "    try:\n",
        "      nivel = int(input(\"Defina o nível: \"))\n",
        "      if (nivel not in [1,2,3]):\n",
        "        print(\"Por favor, escolha um nível válido ...\")\n",
        "      else:\n",
        "        break\n",
        "    except ValueError:\n",
        "      print(\"Por favor, escolha um nível válido ...\")\n",
        "    \n",
        "\n",
        "  if(nivel == 1):\n",
        "    total_tentativas = 12\n",
        "  elif(nivel == 2):\n",
        "    total_tentativas = 9\n",
        "  else:\n",
        "    total_tentativas = 6\n",
        "\n",
        "  for rodada in range(1, total_tentativas + 1):\n",
        "    print(\"\\nTentativa {} de {}\".format(rodada, total_tentativas))\n",
        "\n",
        "    while(True):\n",
        "      try:\n",
        "        chute = int(input(\"Digite um número entre 1 e 100: \"))\n",
        "        print('Voce digitou {}'.format(chute))\n",
        "        if(chute < 1 or chute > 100):\n",
        "          print('Digite um valor válido ...')\n",
        "        else:\n",
        "          break\n",
        "      except ValueError:\n",
        "        print('Digite um valor válido ...')\n",
        "\n",
        "    acertou = chute == numero_secreto\n",
        "    maior = chute > numero_secreto\n",
        "    menor = chute < numero_secreto\n",
        "\n",
        "    if(acertou):\n",
        "      print(\"Você acertou e fez {} pontos!\".format(pontos))\n",
        "      break\n",
        "    else:\n",
        "      pontos_perdidos = abs(numero_secreto - chute)\n",
        "      pontos = pontos - pontos_perdidos\n",
        "      if(maior):\n",
        "        print(\"O seu chute foi maior que o número secreto\")\n",
        "      elif(menor):\n",
        "        print(\"Você errou! O seu chute foi menor do que o número secreto.\")\n",
        "      if(rodada == total_tentativas):\n",
        "        print(\"O número secreto era {}. Você fez {} pontos!\".format(numero_secreto, pontos))\n",
        "\n",
        "  print(\"\\nFim do jogo\")\n",
        "\n",
        "#### DEFINIÇÃO FORCA ####\n",
        "\n",
        "def forca():\n",
        "\n",
        "  import random\n",
        "\n",
        "  print(\"*********************************\")\n",
        "  print(\"***Bem vindo ao jogo da Forca!***\")\n",
        "  print(\"*********************************\")\n",
        "\n",
        "  pool_palavra_secreta = ['banana','mamao','morango','abacaxi','melancia','carambola','laranja',\n",
        "                          'pera','limao','caqui','kiwi','ameixa','coco','pessego','abacate','acai',\n",
        "                          'acerola','amora','cacau','caja','caqui','cereja','cupuacu','figo','framboesa',\n",
        "                          'goiaba','groselha','jabuticaba','jaca','maça','melao','pitaya','uva','ata',\n",
        "                          'graviola']  \n",
        "  palavra_secreta = pool_palavra_secreta[random.randrange(0, len(pool_palavra_secreta))].upper()\n",
        "\n",
        "  letras_acertadas = ['_' for letra in palavra_secreta]\n",
        "\n",
        "  enforcou = False\n",
        "  acertou = False\n",
        "  erros = 0\n",
        "\n",
        "  print('\\nA palavra secreta tem o seguinte formato:\\n{}\\n'.format(letras_acertadas))\n",
        "\n",
        "  while(not acertou):\n",
        "    \n",
        "    chute = input('Chute uma letra:').strip().upper()\n",
        "\n",
        "    if (chute in palavra_secreta):\n",
        "      index = 0\n",
        "      for letra in palavra_secreta:\n",
        "        if (chute == letra):\n",
        "          letras_acertadas[index] = letra\n",
        "        index += 1\n",
        "    else:\n",
        "      erros +=1\n",
        "      enforcou = erros == 6\n",
        "      if (enforcou):\n",
        "        break\n",
        "      print('Você errou! A letra {} não faz parte da palavra secreta. Restam {} tentativas!\\n'.format(chute, 6-erros))\n",
        "    \n",
        "    \n",
        "    acertou = '_' not in letras_acertadas\n",
        "    print(letras_acertadas,'\\n')\n",
        "\n",
        "  if (acertou):\n",
        "    print('Você ganhou!')\n",
        "  else:\n",
        "    print('\\nFORCA! Você perdeu!\\nE a palavra secreta era...\\n\\n{}'.format(palavra_secreta))\n",
        "\n",
        "  print(\"\\nFim do jogo\")\n"
      ],
      "execution_count": 1,
      "outputs": []
    },
    {
      "cell_type": "markdown",
      "metadata": {
        "id": "9fdwU_77ptN8"
      },
      "source": [
        "# **JOGANDO**\n",
        "\n",
        "Finalmente, temos a inicialização do menu dos jogos. Permitindo o jogador a escolha do jogo desejado ou finalização e fechamento do menu."
      ]
    },
    {
      "cell_type": "code",
      "metadata": {
        "id": "mr6q9dHBaOjZ"
      },
      "source": [
        "#### INICIALIZAÇÃO DOS JOGOS ####\n",
        "\n",
        "print(\"*********************************\")\n",
        "print(\"*******Escolha o seu jogo!*******\")\n",
        "print(\"*********************************\")\n",
        "\n",
        "jogo = 10\n",
        "\n",
        "while(jogo != 0):\n",
        "\n",
        "  print(\"\\n(1) Forca (2) Adivinhação (0) Para finalizar\")\n",
        "  jogo = int(input(\"Qual jogo? \"))\n",
        "  print('')\n",
        "  if (jogo == 1):\n",
        "      forca()\n",
        "  elif (jogo == 2):\n",
        "      adivinhacao()\n",
        "\n",
        "print('Obrigado por jogar!')"
      ],
      "execution_count": null,
      "outputs": []
    }
  ]
}
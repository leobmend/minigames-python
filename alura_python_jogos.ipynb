{
  "nbformat": 4,
  "nbformat_minor": 0,
  "metadata": {
    "colab": {
      "name": "alura_python_jogos.ipynb",
      "provenance": [],
      "toc_visible": true,
      "authorship_tag": "ABX9TyMAzHlnrrbOU+Prk31v75rp",
      "include_colab_link": true
    },
    "kernelspec": {
      "display_name": "Python 3",
      "name": "python3"
    },
    "language_info": {
      "name": "python"
    }
  },
  "cells": [
    {
      "cell_type": "markdown",
      "metadata": {
        "id": "view-in-github",
        "colab_type": "text"
      },
      "source": [
        "<a href=\"https://colab.research.google.com/github/leobmend/pythonds/blob/master/alura_python_jogos.ipynb\" target=\"_parent\"><img src=\"https://colab.research.google.com/assets/colab-badge.svg\" alt=\"Open In Colab\"/></a>"
      ]
    },
    {
      "cell_type": "markdown",
      "metadata": {
        "id": "kKCTLvPk3wPD"
      },
      "source": [
        "# INTRODUÇÃO"
      ]
    },
    {
      "cell_type": "code",
      "metadata": {
        "id": "mRhXTVEw1Iya"
      },
      "source": [
        "a = 1"
      ],
      "execution_count": null,
      "outputs": []
    },
    {
      "cell_type": "code",
      "metadata": {
        "colab": {
          "base_uri": "https://localhost:8080/"
        },
        "id": "buOBrKln1Xl4",
        "outputId": "89729a1c-c788-428b-8f04-502970e35f17"
      },
      "source": [
        "a"
      ],
      "execution_count": null,
      "outputs": [
        {
          "output_type": "execute_result",
          "data": {
            "text/plain": [
              "1"
            ]
          },
          "metadata": {
            "tags": []
          },
          "execution_count": 2
        }
      ]
    },
    {
      "cell_type": "code",
      "metadata": {
        "colab": {
          "base_uri": "https://localhost:8080/"
        },
        "id": "EfyFwHxt1YHX",
        "outputId": "dba133f8-449e-48ed-d86f-e471d33ec051"
      },
      "source": [
        "type(a)"
      ],
      "execution_count": null,
      "outputs": [
        {
          "output_type": "execute_result",
          "data": {
            "text/plain": [
              "int"
            ]
          },
          "metadata": {
            "tags": []
          },
          "execution_count": 3
        }
      ]
    },
    {
      "cell_type": "code",
      "metadata": {
        "colab": {
          "base_uri": "https://localhost:8080/"
        },
        "id": "xjYodPx11ZCY",
        "outputId": "2dc279f3-1a6a-4b91-fdf5-cc45811bc94b"
      },
      "source": [
        "print(a)"
      ],
      "execution_count": null,
      "outputs": [
        {
          "output_type": "stream",
          "text": [
            "1\n"
          ],
          "name": "stdout"
        }
      ]
    },
    {
      "cell_type": "code",
      "metadata": {
        "colab": {
          "base_uri": "https://localhost:8080/"
        },
        "id": "rZm1uiIJ1eOU",
        "outputId": "851963b3-5d54-4d68-ebfe-e3e5fa96d92d"
      },
      "source": [
        "help(type)"
      ],
      "execution_count": null,
      "outputs": [
        {
          "output_type": "stream",
          "text": [
            "Help on class type in module builtins:\n",
            "\n",
            "class type(object)\n",
            " |  type(object_or_name, bases, dict)\n",
            " |  type(object) -> the object's type\n",
            " |  type(name, bases, dict) -> a new type\n",
            " |  \n",
            " |  Methods defined here:\n",
            " |  \n",
            " |  __call__(self, /, *args, **kwargs)\n",
            " |      Call self as a function.\n",
            " |  \n",
            " |  __delattr__(self, name, /)\n",
            " |      Implement delattr(self, name).\n",
            " |  \n",
            " |  __dir__(self, /)\n",
            " |      Specialized __dir__ implementation for types.\n",
            " |  \n",
            " |  __getattribute__(self, name, /)\n",
            " |      Return getattr(self, name).\n",
            " |  \n",
            " |  __init__(self, /, *args, **kwargs)\n",
            " |      Initialize self.  See help(type(self)) for accurate signature.\n",
            " |  \n",
            " |  __instancecheck__(self, instance, /)\n",
            " |      Check if an object is an instance.\n",
            " |  \n",
            " |  __repr__(self, /)\n",
            " |      Return repr(self).\n",
            " |  \n",
            " |  __setattr__(self, name, value, /)\n",
            " |      Implement setattr(self, name, value).\n",
            " |  \n",
            " |  __sizeof__(self, /)\n",
            " |      Return memory consumption of the type object.\n",
            " |  \n",
            " |  __subclasscheck__(self, subclass, /)\n",
            " |      Check if a class is a subclass.\n",
            " |  \n",
            " |  __subclasses__(self, /)\n",
            " |      Return a list of immediate subclasses.\n",
            " |  \n",
            " |  mro(self, /)\n",
            " |      Return a type's method resolution order.\n",
            " |  \n",
            " |  ----------------------------------------------------------------------\n",
            " |  Class methods defined here:\n",
            " |  \n",
            " |  __prepare__(...)\n",
            " |      __prepare__() -> dict\n",
            " |      used to create the namespace for the class statement\n",
            " |  \n",
            " |  ----------------------------------------------------------------------\n",
            " |  Static methods defined here:\n",
            " |  \n",
            " |  __new__(*args, **kwargs)\n",
            " |      Create and return a new object.  See help(type) for accurate signature.\n",
            " |  \n",
            " |  ----------------------------------------------------------------------\n",
            " |  Data descriptors defined here:\n",
            " |  \n",
            " |  __abstractmethods__\n",
            " |  \n",
            " |  __dict__\n",
            " |  \n",
            " |  __text_signature__\n",
            " |  \n",
            " |  ----------------------------------------------------------------------\n",
            " |  Data and other attributes defined here:\n",
            " |  \n",
            " |  __base__ = <class 'object'>\n",
            " |      The most base type\n",
            " |  \n",
            " |  __bases__ = (<class 'object'>,)\n",
            " |  \n",
            " |  __basicsize__ = 864\n",
            " |  \n",
            " |  __dictoffset__ = 264\n",
            " |  \n",
            " |  __flags__ = 2148291584\n",
            " |  \n",
            " |  __itemsize__ = 40\n",
            " |  \n",
            " |  __mro__ = (<class 'type'>, <class 'object'>)\n",
            " |  \n",
            " |  __weakrefoffset__ = 368\n",
            "\n"
          ],
          "name": "stdout"
        }
      ]
    },
    {
      "cell_type": "code",
      "metadata": {
        "id": "gF7DnGtb1gCQ"
      },
      "source": [
        ">>> dia = 15\n",
        ">>> mes = 10\n",
        ">>> ano = 2015\n",
        "# Como printar essa data so utilizando o print() e seus parâmetros?"
      ],
      "execution_count": null,
      "outputs": []
    },
    {
      "cell_type": "code",
      "metadata": {
        "colab": {
          "base_uri": "https://localhost:8080/"
        },
        "id": "Wx9AKIk42Rf3",
        "outputId": "b1c54e18-d07f-47aa-dd62-01b60bc95b4f"
      },
      "source": [
        "print(dia,mes,ano,sep='/')"
      ],
      "execution_count": null,
      "outputs": [
        {
          "output_type": "stream",
          "text": [
            "15/10/2015\n"
          ],
          "name": "stdout"
        }
      ]
    },
    {
      "cell_type": "code",
      "metadata": {
        "colab": {
          "base_uri": "https://localhost:8080/"
        },
        "id": "9Gsang2J2SKn",
        "outputId": "6cd944b2-6772-41c7-cf2c-2e1f953fc86c"
      },
      "source": [
        ">>> pais = \"Brasil\"\n",
        ">>> type(pais)"
      ],
      "execution_count": null,
      "outputs": [
        {
          "output_type": "execute_result",
          "data": {
            "text/plain": [
              "str"
            ]
          },
          "metadata": {
            "tags": []
          },
          "execution_count": 8
        }
      ]
    },
    {
      "cell_type": "code",
      "metadata": {
        "colab": {
          "base_uri": "https://localhost:8080/"
        },
        "id": "7ImcftYy2rlu",
        "outputId": "aa3716b7-221b-4463-dec6-f216fb1215dd"
      },
      "source": [
        ">>> pais = 644\n",
        ">>> type(pais)"
      ],
      "execution_count": null,
      "outputs": [
        {
          "output_type": "execute_result",
          "data": {
            "text/plain": [
              "int"
            ]
          },
          "metadata": {
            "tags": []
          },
          "execution_count": 9
        }
      ]
    },
    {
      "cell_type": "code",
      "metadata": {
        "id": "TMjlZ5ch2yaw"
      },
      "source": [
        "# Padrão em python é Snake_Case!\n",
        "padrao_de_variaveis = 1"
      ],
      "execution_count": null,
      "outputs": []
    },
    {
      "cell_type": "markdown",
      "metadata": {
        "id": "yICWXPkZIswa"
      },
      "source": [
        "# EXERCÍCIOS e EXEMPLOS"
      ]
    },
    {
      "cell_type": "code",
      "metadata": {
        "colab": {
          "base_uri": "https://localhost:8080/"
        },
        "id": "A9OZ27kVdUcZ",
        "outputId": "b6368dd2-034b-4e33-ee17-31b946a272b0"
      },
      "source": [
        "# FOR SYNTAX\n",
        "\n",
        "for i in range(1,10,2):\n",
        "  print(i)"
      ],
      "execution_count": null,
      "outputs": [
        {
          "output_type": "stream",
          "text": [
            "1\n",
            "3\n",
            "5\n",
            "7\n",
            "9\n"
          ],
          "name": "stdout"
        }
      ]
    },
    {
      "cell_type": "code",
      "metadata": {
        "colab": {
          "base_uri": "https://localhost:8080/"
        },
        "id": "Gu89tF2D4UO0",
        "outputId": "381034f1-0e06-4ee7-ef14-a0b589e7abc1"
      },
      "source": [
        "# EXERCÍCIO INTERPOLAÇÃO DE STRINGS\n",
        "\n",
        "dia_ini = 24\n",
        "dia_fim = 28\n",
        "mes = \"fevereiro\"\n",
        "ano = 2017\n",
        "# Como escrever a seguiente frase:\n",
        "# \"Em 2017 o Carnaval acontece em fevereiro do dia 24 até o dia 28\"\n",
        "\n",
        "print(\"Em {} o Carnaval acontece em {} do dia {} até o dia {}\".format(ano,mes,dia_ini,dia_fim))"
      ],
      "execution_count": null,
      "outputs": [
        {
          "output_type": "stream",
          "text": [
            "Em 2017 o Carnaval acontece em fevereiro do dia 24 até o dia 28\n"
          ],
          "name": "stdout"
        }
      ]
    },
    {
      "cell_type": "code",
      "metadata": {
        "colab": {
          "base_uri": "https://localhost:8080/",
          "height": 35
        },
        "id": "uuitJZYPhkNA",
        "outputId": "5781aadf-8f36-4c38-87b6-0a9c9a93b508"
      },
      "source": [
        "# MAIS EXEMPLOS DE .FORMAT\n",
        "\n",
        "'{0}{1}{0}'.format('abra', 'cad')"
      ],
      "execution_count": null,
      "outputs": [
        {
          "output_type": "execute_result",
          "data": {
            "application/vnd.google.colaboratory.intrinsic+json": {
              "type": "string"
            },
            "text/plain": [
              "'abracadabra'"
            ]
          },
          "metadata": {
            "tags": []
          },
          "execution_count": 13
        }
      ]
    },
    {
      "cell_type": "code",
      "metadata": {
        "colab": {
          "base_uri": "https://localhost:8080/",
          "height": 35
        },
        "id": "RYNDpli_hu40",
        "outputId": "babab2ff-9681-4b1a-cbc2-cc7d04ae6fc4"
      },
      "source": [
        "coord = {'latitude': '37.24N', 'longitude': '-115.81W'}\n",
        "'Coordinates: {latitude}, {longitude}'.format(**coord)"
      ],
      "execution_count": null,
      "outputs": [
        {
          "output_type": "execute_result",
          "data": {
            "application/vnd.google.colaboratory.intrinsic+json": {
              "type": "string"
            },
            "text/plain": [
              "'Coordinates: 37.24N, -115.81W'"
            ]
          },
          "metadata": {
            "tags": []
          },
          "execution_count": 14
        }
      ]
    },
    {
      "cell_type": "code",
      "metadata": {
        "colab": {
          "base_uri": "https://localhost:8080/"
        },
        "id": "NpObSuVOdphz",
        "outputId": "6aa8f447-c14a-4a72-e614-92a4fd2f994a"
      },
      "source": [
        "# Trabalhando com 0's\n",
        "\n",
        "print('R$ {:f}'.format(1.59)) # :f >> float"
      ],
      "execution_count": null,
      "outputs": [
        {
          "output_type": "stream",
          "text": [
            "R$ 1.590000\n"
          ],
          "name": "stdout"
        }
      ]
    },
    {
      "cell_type": "code",
      "metadata": {
        "colab": {
          "base_uri": "https://localhost:8080/"
        },
        "id": "wRyFRNOUd-hK",
        "outputId": "600264ca-125f-4f1c-afb4-f9d1673bdf0a"
      },
      "source": [
        "print('R$ {:.2f}'.format(1.59))\n",
        "print('R$ {:.2f}'.format(1.50))"
      ],
      "execution_count": null,
      "outputs": [
        {
          "output_type": "stream",
          "text": [
            "R$ 1.59\n",
            "R$ 1.50\n"
          ],
          "name": "stdout"
        }
      ]
    },
    {
      "cell_type": "code",
      "metadata": {
        "colab": {
          "base_uri": "https://localhost:8080/"
        },
        "id": "L4hIrNg9iuDp",
        "outputId": "458e554e-2c17-4d01-c92e-b095ce1f1c62"
      },
      "source": [
        "# Fixando o local do ponto\n",
        "\n",
        "print(\"R$ {:7.2f}\".format(1234.50)) \n",
        "print(\"R$ {:7.2f}\".format(1.5))"
      ],
      "execution_count": null,
      "outputs": [
        {
          "output_type": "stream",
          "text": [
            "R$ 1234.50\n",
            "R$    1.50\n"
          ],
          "name": "stdout"
        }
      ]
    },
    {
      "cell_type": "code",
      "metadata": {
        "colab": {
          "base_uri": "https://localhost:8080/"
        },
        "id": "-7BcWOcki564",
        "outputId": "0e4b525e-ab6f-4dd9-adfc-2e9ea2dad05d"
      },
      "source": [
        "print(\"R$ {:07.2f}\".format(1.5))"
      ],
      "execution_count": null,
      "outputs": [
        {
          "output_type": "stream",
          "text": [
            "R$ 0001.50\n"
          ],
          "name": "stdout"
        }
      ]
    },
    {
      "cell_type": "code",
      "metadata": {
        "colab": {
          "base_uri": "https://localhost:8080/"
        },
        "id": "ig8QxX84jGxN",
        "outputId": "e7c505aa-0da9-4bc5-81ad-2addc96e1296"
      },
      "source": [
        "# Para dúmeros inteiro, utilizar o ':d'\n",
        "\n",
        "print('R$ {:04d}'.format(10))"
      ],
      "execution_count": null,
      "outputs": [
        {
          "output_type": "stream",
          "text": [
            "R$ 0010\n"
          ],
          "name": "stdout"
        }
      ]
    },
    {
      "cell_type": "code",
      "metadata": {
        "colab": {
          "base_uri": "https://localhost:8080/"
        },
        "id": "pVPIXF8vjUZ7",
        "outputId": "ff02f0bc-a5c2-481e-93b6-0ffef208d4f1"
      },
      "source": [
        "# Formatando datas com o ':d':\n",
        "\n",
        "dia = 1\n",
        "mes = 3\n",
        "print('Data {:02d}/{:02d}'.format(dia,mes))"
      ],
      "execution_count": null,
      "outputs": [
        {
          "output_type": "stream",
          "text": [
            "Data 01/03\n"
          ],
          "name": "stdout"
        }
      ]
    },
    {
      "cell_type": "code",
      "metadata": {
        "colab": {
          "base_uri": "https://localhost:8080/"
        },
        "id": "7164RhTgjuwa",
        "outputId": "167ad9dc-1749-4d58-f1d2-088b16b70369"
      },
      "source": [
        "# Python 3.6+\n",
        "\n",
        "nome = 'Matheus'\n",
        "print(f'Meu nome é {nome}')"
      ],
      "execution_count": null,
      "outputs": [
        {
          "output_type": "stream",
          "text": [
            "Meu nome é Matheus\n"
          ],
          "name": "stdout"
        }
      ]
    },
    {
      "cell_type": "code",
      "metadata": {
        "colab": {
          "base_uri": "https://localhost:8080/"
        },
        "id": "EOWimpNvkKvT",
        "outputId": "b3f6b2a1-137d-4899-9dce-fef892c62a78"
      },
      "source": [
        "# Diferença entre dividir utilizando '/' e '//'\n",
        "\n",
        "a = 4 / 2\n",
        "b = 4 // 2\n",
        "\n",
        "print(type(a))\n",
        "print(type(b))"
      ],
      "execution_count": null,
      "outputs": [
        {
          "output_type": "stream",
          "text": [
            "<class 'float'>\n",
            "<class 'int'>\n"
          ],
          "name": "stdout"
        }
      ]
    },
    {
      "cell_type": "code",
      "metadata": {
        "colab": {
          "base_uri": "https://localhost:8080/"
        },
        "id": "Z2Sb94gFY4lT",
        "outputId": "70dd74b7-b8da-4052-f529-ed20f62bc4e4"
      },
      "source": [
        "# '//' também é chamado de integer division, retorno valor inteiro sem arredondar\n",
        "\n",
        "a = 3 / 2\n",
        "b = 3 // 2\n",
        "\n",
        "print(a)\n",
        "print(b)"
      ],
      "execution_count": null,
      "outputs": [
        {
          "output_type": "stream",
          "text": [
            "1.5\n",
            "1\n"
          ],
          "name": "stdout"
        }
      ]
    },
    {
      "cell_type": "code",
      "metadata": {
        "colab": {
          "base_uri": "https://localhost:8080/"
        },
        "id": "hFsBy-qeY9L2",
        "outputId": "459971d8-70f8-4ecf-cf60-54c2da6f9c93"
      },
      "source": [
        "# Trabalhando com strings\n",
        "\n",
        "palavra = 'banAna'\n",
        "print(palavra.lower())\n",
        "print(palavra.upper())\n",
        "print(palavra.capitalize())\n",
        "\n",
        "palavra = '   banana    '\n",
        "print(len(palavra.strip()))\n",
        "\n",
        "a = 'ba'\n",
        "print('c' in a)"
      ],
      "execution_count": null,
      "outputs": [
        {
          "output_type": "stream",
          "text": [
            "banana\n",
            "BANANA\n",
            "Banana\n",
            "6\n",
            "False\n"
          ],
          "name": "stdout"
        }
      ]
    },
    {
      "cell_type": "code",
      "metadata": {
        "colab": {
          "base_uri": "https://localhost:8080/"
        },
        "id": "aUBRkA3taAev",
        "outputId": "a26e74aa-d834-43a1-ec6c-85f92a85dece"
      },
      "source": [
        "# Trabalhando com listas\n",
        "\n",
        "valores = [0,1,2,3,4]\n",
        "print(0 in valores)\n",
        "print(8 in valores)\n"
      ],
      "execution_count": null,
      "outputs": [
        {
          "output_type": "stream",
          "text": [
            "True\n",
            "False\n"
          ],
          "name": "stdout"
        }
      ]
    },
    {
      "cell_type": "code",
      "metadata": {
        "colab": {
          "base_uri": "https://localhost:8080/"
        },
        "id": "9adl3SGy8WHI",
        "outputId": "24b91b8f-1100-4532-e667-7a6975a795f0"
      },
      "source": [
        "# Mais recursos de listas\n",
        "\n",
        "val = [0,0,0,0,1,3,5]\n",
        "print(val.count(0))\n",
        "print(val.index(3))\n",
        "del(val[0])\n",
        "print(val)"
      ],
      "execution_count": null,
      "outputs": [
        {
          "output_type": "stream",
          "text": [
            "4\n",
            "5\n",
            "[0, 0, 0, 1, 3, 5]\n"
          ],
          "name": "stdout"
        }
      ]
    },
    {
      "cell_type": "code",
      "metadata": {
        "colab": {
          "base_uri": "https://localhost:8080/"
        },
        "id": "mNk8XEbm_5vk",
        "outputId": "a6fa47a4-ad17-40a5-e8f2-59e1466c2c0e"
      },
      "source": [
        "# Tuples: sequências imutáveis, não possuem del()/append()/etc\n",
        "\n",
        "p1 = ('Nico', 20)\n",
        "p2 = ('Fred', 35)\n",
        "lista_pessoas = [p1, p2]\n",
        "print(lista_pessoas[-1])\n",
        "print(lista_pessoas[-1][1])\n",
        "\n",
        "tuple_pessoas = tuple(lista_pessoas)\n",
        "print(tuple_pessoas)\n",
        "\n",
        "lista_novamente = list(tuple_pessoas)\n",
        "print(lista_novamente)"
      ],
      "execution_count": null,
      "outputs": [
        {
          "output_type": "stream",
          "text": [
            "('Fred', 35)\n",
            "35\n",
            "(('Nico', 20), ('Fred', 35))\n",
            "[('Nico', 20), ('Fred', 35)]\n"
          ],
          "name": "stdout"
        }
      ]
    },
    {
      "cell_type": "code",
      "metadata": {
        "colab": {
          "base_uri": "https://localhost:8080/"
        },
        "id": "0QYeA0gyBqfo",
        "outputId": "4686191e-d6b6-4c5c-80f3-905e000a7e44"
      },
      "source": [
        "# Sets: coleção de elementos únicos, não possui índice\n",
        "\n",
        "cpfs = {'04598565998', '51365484956', '54694682598'}\n",
        "cpfs.add('04598565998') #ignorado!\n",
        "print(cpfs)\n",
        "\n",
        "cpfs.add('5')\n",
        "print(cpfs)"
      ],
      "execution_count": null,
      "outputs": [
        {
          "output_type": "stream",
          "text": [
            "{'04598565998', '51365484956', '54694682598'}\n",
            "{'5', '04598565998', '51365484956', '54694682598'}\n"
          ],
          "name": "stdout"
        }
      ]
    },
    {
      "cell_type": "code",
      "metadata": {
        "colab": {
          "base_uri": "https://localhost:8080/"
        },
        "id": "-oekYFGNCHd-",
        "outputId": "404a4d0f-9457-4cf0-f43b-65ed75b1c07d"
      },
      "source": [
        "# Dictionarys: coleção de elementos pareados, associados (key-value pairs)\n",
        "\n",
        "instrutores = {'Nico' : 20, 'Fred': 35, 'Marcos' : 30}\n",
        "print(instrutores['Nico'])"
      ],
      "execution_count": null,
      "outputs": [
        {
          "output_type": "stream",
          "text": [
            "20\n"
          ],
          "name": "stdout"
        }
      ]
    },
    {
      "cell_type": "code",
      "metadata": {
        "colab": {
          "base_uri": "https://localhost:8080/"
        },
        "id": "IQHC-EHLLOng",
        "outputId": "b86a0fbc-dd9d-4fc6-93de-fe07f091c3bc"
      },
      "source": [
        "# List comprehension\n",
        "\n",
        "palavra = 'BANANA'\n",
        "espacos = [\"_\" for letra in palavra]\n",
        "print('{} e {}'.format(palavra, espacos))"
      ],
      "execution_count": null,
      "outputs": [
        {
          "output_type": "stream",
          "text": [
            "BANANA e ['_', '_', '_', '_', '_', '_']\n"
          ],
          "name": "stdout"
        }
      ]
    },
    {
      "cell_type": "code",
      "metadata": {
        "colab": {
          "base_uri": "https://localhost:8080/"
        },
        "id": "GWYCeWRwMD1y",
        "outputId": "a2835fc9-bd81-4a5d-9aa6-d3884bce2eb9"
      },
      "source": [
        "# List comprehension com if\n",
        "\n",
        "inteiros = [1,3,4,5,7,8,9]\n",
        "pares = [x for x in inteiros if x%2 == 0]\n",
        "pares_impares_duplicados = [x if x%2 == 0 else x*2 for x in inteiros] # a syntax se inverte com a presença do else!\n",
        "print('A lista com apenas os pares é esta: {}.\\nEnquanto a lista com os pares e com os ímpares duplicados, é esta: {}.'.format(pares,pares_impares_duplicados))"
      ],
      "execution_count": null,
      "outputs": [
        {
          "output_type": "stream",
          "text": [
            "A lista com apenas os pares é esta: [4, 8].\n",
            "Enquanto a lista com os pares e com os ímpares duplicados, é esta: [2, 6, 4, 10, 14, 8, 18].\n"
          ],
          "name": "stdout"
        }
      ]
    },
    {
      "cell_type": "markdown",
      "metadata": {
        "id": "TqnqS9fs38uH"
      },
      "source": [
        "# PROJETO: ADVINHAÇÃO\n"
      ]
    },
    {
      "cell_type": "code",
      "metadata": {
        "id": "XDfUYTIV4C5Q"
      },
      "source": [
        "# COM WHILE!\n",
        "\n",
        "print(\"*********************************\")\n",
        "print(\"Bem vindo ao jogo de Adivinhação!\")\n",
        "print(\"*********************************\")\n",
        "\n",
        "numero_secreto = 42\n",
        "total_tentativas = 3\n",
        "rodada = 1\n",
        "while (rodada <= total_tentativas):\n",
        "  #print('Tentativa', rodada, 'de', total_tentativas)\n",
        "  print(\"Tentativa {} de {}:\".format(rodada,total_tentativas))\n",
        "  chute = int(input(\"Digite seu número: \"))\n",
        "\n",
        "  acertou = chute == numero_secreto\n",
        "  maior = chute > numero_secreto\n",
        "  menor = chute < numero_secreto\n",
        "\n",
        "  if (acertou):\n",
        "    print('Você acertou!')\n",
        "    break\n",
        "  else:\n",
        "    if (maior):\n",
        "      print('Você errou! O número é menor do que o seu chute!')\n",
        "    if (menor):\n",
        "      print('Você errou! O número é maior do que o seu chute!')\n",
        "    rodada = rodada + 1\n"
      ],
      "execution_count": null,
      "outputs": []
    },
    {
      "cell_type": "code",
      "metadata": {
        "id": "B_GW3U6Q73y6"
      },
      "source": [
        "# COM FOR!\n",
        "\n",
        "print(\"*********************************\")\n",
        "print(\"Bem vindo ao jogo de Adivinhação!\")\n",
        "print(\"*********************************\")\n",
        "\n",
        "numero_secreto = 42\n",
        "total_tentativas = 3\n",
        "\n",
        "for rodada in range(1, total_tentativas+1):\n",
        "  #print('Tentativa', rodada, 'de', total_tentativas)\n",
        "  print(\"Tentativa {} de {}:\".format(rodada,total_tentativas))\n",
        "  chute = int(input(\"Digite um número entre 1 e 100: \"))\n",
        "  if (chute < 1 or chute > 100):\n",
        "    print(\"Você deve digitar um número entre 1 e 100!\")\n",
        "    continue #Reinicia o for do início, iterando para o próximo elemento\n",
        "\n",
        "  acertou = chute == numero_secreto\n",
        "  maior = chute > numero_secreto\n",
        "  menor = chute < numero_secreto\n",
        "\n",
        "  if (acertou):\n",
        "    print('Você acertou!')\n",
        "    break\n",
        "  else:\n",
        "    if (maior):\n",
        "      print('Você errou! O número é menor do que o seu chute!')\n",
        "    if (menor):\n",
        "      print('Você errou! O número é maior do que o seu chute!')\n",
        "\n",
        "print('Fim do jogo')\n"
      ],
      "execution_count": null,
      "outputs": []
    },
    {
      "cell_type": "code",
      "metadata": {
        "id": "PiTybz3oJZQY"
      },
      "source": [
        "# NÚMERO RANDOMIZADO\n",
        "\n",
        "import random\n",
        "\n",
        "print(\"*********************************\")\n",
        "print(\"Bem vindo ao jogo de Adivinhação!\")\n",
        "print(\"*********************************\")\n",
        "\n",
        "numero_secreto = random.randrange(1,101) #round(random.random()*100)\n",
        "total_tentativas = 3\n",
        "\n",
        "for rodada in range(1, total_tentativas+1):\n",
        "  #print('Tentativa', rodada, 'de', total_tentativas)\n",
        "  print(\"Tentativa {} de {}:\".format(rodada,total_tentativas))\n",
        "  chute = int(input(\"Digite um número entre 1 e 100: \"))\n",
        "  if (chute < 1 or chute > 100):\n",
        "    print(\"Você deve digitar um número entre 1 e 100!\")\n",
        "    continue #Reinicia o for do início, iterando para o próximo elemento\n",
        "\n",
        "  acertou = chute == numero_secreto\n",
        "  maior = chute > numero_secreto\n",
        "  menor = chute < numero_secreto\n",
        "\n",
        "  if (acertou):\n",
        "    print('Você acertou!')\n",
        "    break\n",
        "  else:\n",
        "    if (maior):\n",
        "      print('Você errou! O número é menor do que o seu chute!')\n",
        "    if (menor):\n",
        "      print('Você errou! O número é maior do que o seu chute!')\n",
        "\n",
        "print('Fim do jogo')"
      ],
      "execution_count": null,
      "outputs": []
    },
    {
      "cell_type": "code",
      "metadata": {
        "id": "07vzu_cmPJyA"
      },
      "source": [
        "# JOGO COM NÍVEIS DE DIFICULDADE!\n",
        "\n",
        "import random\n",
        "\n",
        "print(\"*********************************\")\n",
        "print(\"Bem vindo ao jogo de Adivinhação!\")\n",
        "print(\"*********************************\")\n",
        "\n",
        "numero_secreto = random.randrange(1,101) \n",
        "\n",
        "print(\"Qual o nível de dificuldade?\")\n",
        "print(\"(1) Fácil (2) Médio (3) Difícil\")\n",
        "nivel = 0\n",
        "while(nivel < 1 or nivel > 3):\n",
        "  nivel = int(input('Defina o nível dentre as opções: '))\n",
        "  if (nivel == 1):\n",
        "    total_tentativas = 12\n",
        "  elif (nivel == 2):\n",
        "    total_tentativas = 9\n",
        "  else:\n",
        "    total_tentativas = 6\n",
        "\n",
        "for rodada in range(1, total_tentativas+1):\n",
        "  #print('Tentativa', rodada, 'de', total_tentativas)\n",
        "  print(\"Tentativa {} de {}:\".format(rodada,total_tentativas))\n",
        "  chute = int(input(\"Digite um número entre 1 e 100: \"))\n",
        "  if (chute < 1 or chute > 100):\n",
        "    print(\"Você deve digitar um número entre 1 e 100!\")\n",
        "    continue #Reinicia o for do início, iterando para o próximo elemento\n",
        "\n",
        "  acertou = chute == numero_secreto\n",
        "  maior = chute > numero_secreto\n",
        "  menor = chute < numero_secreto\n",
        "\n",
        "  if (acertou):\n",
        "    print('Você acertou!')\n",
        "    break\n",
        "  else:\n",
        "    if (maior):\n",
        "      print('Você errou! O número é menor do que o seu chute!')\n",
        "    if (menor):\n",
        "      print('Você errou! O número é maior do que o seu chute!')\n",
        "\n",
        "print('Fim do jogo')"
      ],
      "execution_count": null,
      "outputs": []
    },
    {
      "cell_type": "code",
      "metadata": {
        "id": "QnRz3xDDSzlm"
      },
      "source": [
        "# PONTUAÇÃO!\n",
        "\n",
        "import random\n",
        "\n",
        "print(\"*********************************\")\n",
        "print(\"Bem vindo ao jogo de Adivinhação!\")\n",
        "print(\"*********************************\")\n",
        "\n",
        "numero_secreto = random.randrange(1,101) \n",
        "\n",
        "print(\"Qual o nível de dificuldade?\")\n",
        "print(\"(1) Fácil (2) Médio (3) Difícil\")\n",
        "nivel = 0\n",
        "while(nivel < 1 or nivel > 3):\n",
        "  nivel = int(input('Defina o nível dentre as opções: '))\n",
        "  if (nivel == 1):\n",
        "    pontos = 250\n",
        "  elif (nivel == 2):\n",
        "    pontos = 150\n",
        "  else:\n",
        "    pontos = 75\n",
        "\n",
        "print(\"Sua pontuação inicial: {}\".format(pontos))\n",
        "while (pontos > 0):\n",
        "  chute = int(input(\"Digite um número entre 1 e 100: \"))\n",
        "  if (chute < 1 or chute > 100):\n",
        "    print(\"Você deve digitar um número entre 1 e 100!\")\n",
        "    continue #Reinicia o for do início, iterando para o próximo elemento\n",
        "  acertou = chute == numero_secreto\n",
        "  maior = chute > numero_secreto\n",
        "  menor = chute < numero_secreto\n",
        "  if (acertou):\n",
        "    print('Você acertou!')\n",
        "    print('Pontuação final: {}'.format(pontos))\n",
        "    break\n",
        "  else:\n",
        "    if (maior):\n",
        "      print('Você errou! O número é menor do que o seu chute!')\n",
        "    if (menor):\n",
        "      print('Você errou! O número é maior do que o seu chute!')\n",
        "    pontos = pontos - abs(chute - numero_secreto)\n",
        "\n",
        "if (chute != numero_secreto):\n",
        "  print('Este era o número secreto: {}'.format(numero_secreto))\n",
        "print('Fim do jogo')"
      ],
      "execution_count": null,
      "outputs": []
    },
    {
      "cell_type": "code",
      "metadata": {
        "colab": {
          "base_uri": "https://localhost:8080/"
        },
        "id": "92VZ-7k-TY-9",
        "outputId": "f18c9e84-52ac-4d0f-bdb0-36e7bff6bb59"
      },
      "source": [
        "# UNINDO PONTUAÇÃO E RODADAS! FINALIZANDO E CRIANDO A FUNÇÃO ADIVINHACAO()\n",
        "\n",
        "import random\n",
        "\n",
        "print(\"*********************************\")\n",
        "print(\"Bem vindo ao jogo de Adivinhação!\")\n",
        "print(\"*********************************\")\n",
        "\n",
        "numero_secreto = random.randrange(1, 101)\n",
        "total_de_tentativas = 0\n",
        "pontos = 1000\n",
        "\n",
        "print(\"\\nQual o nível de dificuldade?\")\n",
        "print(\"(1) Fácil (2) Médio (3) Difícil\")\n",
        "\n",
        "while(True):\n",
        "  try:\n",
        "    nivel = int(input(\"Defina o nível: \"))\n",
        "    if (nivel not in [1,2,3]):\n",
        "      print(\"Por favor, escolha um nível válido ...\")\n",
        "    else:\n",
        "      break\n",
        "  except ValueError:\n",
        "    print(\"Por favor, escolha um nível válido ...\")\n",
        "  \n",
        "\n",
        "if(nivel == 1):\n",
        "  total_tentativas = 12\n",
        "elif(nivel == 2):\n",
        "  total_tentativas = 9\n",
        "else:\n",
        "  total_tentativas = 6\n",
        "\n",
        "for rodada in range(1, total_tentativas + 1):\n",
        "  print(\"\\nTentativa {} de {}\".format(rodada, total_tentativas))\n",
        "\n",
        "  while(True):\n",
        "    try:\n",
        "      chute = int(input(\"Digite um número entre 1 e 100: \"))\n",
        "      print('Voce digitou {}'.format(chute))\n",
        "      if(chute < 1 or chute > 100):\n",
        "        print('Digite um valor válido ...')\n",
        "      else:\n",
        "        break\n",
        "    except ValueError:\n",
        "      print('Digite um valor válido ...')\n",
        "\n",
        "  acertou = chute == numero_secreto\n",
        "  maior = chute > numero_secreto\n",
        "  menor = chute < numero_secreto\n",
        "\n",
        "  if(acertou):\n",
        "    print(\"Você acertou e fez {} pontos!\".format(pontos))\n",
        "    break\n",
        "  else:\n",
        "    pontos_perdidos = abs(numero_secreto - chute)\n",
        "    pontos = pontos - pontos_perdidos\n",
        "    if(maior):\n",
        "      print(\"O seu chute foi maior que o número secreto\")\n",
        "    elif(menor):\n",
        "      print(\"Você errou! O seu chute foi menor do que o número secreto.\")\n",
        "    if(rodada == total_tentativas):\n",
        "      print(\"O número secreto era {}. Você fez {} pontos!\".format(numero_secreto, pontos))\n",
        "\n",
        "print(\"\\nFim do jogo\")"
      ],
      "execution_count": 10,
      "outputs": [
        {
          "output_type": "stream",
          "text": [
            "*********************************\n",
            "Bem vindo ao jogo de Adivinhação!\n",
            "*********************************\n",
            "\n",
            "Qual o nível de dificuldade?\n",
            "(1) Fácil (2) Médio (3) Difícil\n",
            "Defina o nível: 3\n",
            "\n",
            "Tentativa 1 de 6\n",
            "Digite um número entre 1 e 100: 101\n",
            "Voce digitou 101\n",
            "Digite um valor válido ...\n",
            "Digite um número entre 1 e 100: a\n",
            "Digite um valor válido ...\n",
            "Digite um número entre 1 e 100: a\n",
            "Digite um valor válido ...\n",
            "Digite um número entre 1 e 100: a\n",
            "Digite um valor válido ...\n",
            "Digite um número entre 1 e 100: 50\n",
            "Voce digitou 50\n",
            "O seu chute foi maior que o número secreto\n",
            "\n",
            "Tentativa 2 de 6\n",
            "Digite um número entre 1 e 100: 75\n",
            "Voce digitou 75\n",
            "O seu chute foi maior que o número secreto\n",
            "\n",
            "Tentativa 3 de 6\n",
            "Digite um número entre 1 e 100: 62\n",
            "Voce digitou 62\n",
            "O seu chute foi maior que o número secreto\n",
            "\n",
            "Tentativa 4 de 6\n",
            "Digite um número entre 1 e 100: 56\n",
            "Voce digitou 56\n",
            "O seu chute foi maior que o número secreto\n",
            "\n",
            "Tentativa 5 de 6\n",
            "Digite um número entre 1 e 100: 53\n",
            "Voce digitou 53\n",
            "O seu chute foi maior que o número secreto\n",
            "\n",
            "Tentativa 6 de 6\n",
            "Digite um número entre 1 e 100: 27\n",
            "Voce digitou 27\n",
            "Você errou! O seu chute foi menor do que o número secreto.\n",
            "O número secreto era 44. Você fez 907 pontos!\n",
            "\n",
            "Fim do jogo\n"
          ],
          "name": "stdout"
        }
      ]
    },
    {
      "cell_type": "code",
      "metadata": {
        "colab": {
          "base_uri": "https://localhost:8080/"
        },
        "id": "o3z7QTNLeUYi",
        "outputId": "74a3a465-b7cc-43d1-cdc0-8df51fc40706"
      },
      "source": [
        "print('asd {}'.format(1))"
      ],
      "execution_count": 8,
      "outputs": [
        {
          "output_type": "stream",
          "text": [
            "asd 1\n"
          ],
          "name": "stdout"
        }
      ]
    },
    {
      "cell_type": "markdown",
      "metadata": {
        "id": "N7vYP2EGZ3E2"
      },
      "source": [
        "# PROJETO: FORCA"
      ]
    },
    {
      "cell_type": "code",
      "metadata": {
        "id": "5fIYhmjLaAmb"
      },
      "source": [
        "import random\n",
        "\n",
        "print(\"*********************************\")\n",
        "print(\"***Bem vindo ao jogo da Forca!***\")\n",
        "print(\"*********************************\")\n",
        "\n",
        "pool_palavra_secreta = ['banana','mamao','morango','abacaxi','melancia','carambola','laranja','pera','limao','caqui','kiwi','ameixa','coco','pessego','abacate','acai','acerola','amora','cacau','caja','caqui','cereja','cupuacu','figo','framboesa','goiaba','groselha','jabuticaba','jaca','maça'] \n",
        "palavra_secreta = pool_palavra_secreta[random.randrange(0, len(pool_palavra_secreta))].upper()\n",
        "\n",
        "letras_acertadas = ['_' for letra in palavra_secreta]\n",
        "\n",
        "enforcou = False\n",
        "acertou = False\n",
        "erros = 0\n",
        "\n",
        "print('\\nA palavra secreta tem o seguinte formato:\\n{}\\n'.format(letras_acertadas))\n",
        "\n",
        "while(not acertou):\n",
        "  \n",
        "  chute = input('Chute uma letra:').strip().upper()\n",
        "\n",
        "  if (chute in palavra_secreta):\n",
        "    index = 0\n",
        "    for letra in palavra_secreta:\n",
        "      if (chute == letra):\n",
        "        letras_acertadas[index] = letra\n",
        "      index += 1\n",
        "  else:\n",
        "    erros +=1\n",
        "    enforcou = erros == 6\n",
        "    if (enforcou):\n",
        "      break\n",
        "    print('Você errou! A letra {} não faz parte da palavra secreta. Restam {} tentativas!\\n'.format(chute, 6-erros))\n",
        "  \n",
        "  \n",
        "  acertou = '_' not in letras_acertadas\n",
        "  print(letras_acertadas,'\\n')\n",
        "\n",
        "if (acertou):\n",
        "  print('Você ganhou!')\n",
        "else:\n",
        "  print('\\nFORCA! Você perdeu!\\nE a palavra secreta era...\\n\\n{}'.format(palavra_secreta))\n",
        "\n",
        "print(\"\\nFim do jogo\")"
      ],
      "execution_count": null,
      "outputs": []
    },
    {
      "cell_type": "markdown",
      "metadata": {
        "id": "BsM9R3nGaCtY"
      },
      "source": [
        "# JOGOS"
      ]
    },
    {
      "cell_type": "code",
      "metadata": {
        "id": "zaT-WRs-ZmZ2"
      },
      "source": [
        "##### DEFINIÇÃO DOS JOGOS #####\n",
        "\n",
        "#### DEFINIÇÃO ADIVINHAÇÃO ####\n",
        "\n",
        "def adivinhacao():\n",
        "\n",
        "  import random\n",
        "\n",
        "  print(\"*********************************\")\n",
        "  print(\"Bem vindo ao jogo de Adivinhação!\")\n",
        "  print(\"*********************************\")\n",
        "\n",
        "  numero_secreto = random.randrange(1, 101)\n",
        "  total_de_tentativas = 0\n",
        "  pontos = 1000\n",
        "\n",
        "  print(\"\\nQual o nível de dificuldade?\")\n",
        "  print(\"(1) Fácil (2) Médio (3) Difícil\")\n",
        "\n",
        "  while(True):\n",
        "    try:\n",
        "      nivel = int(input(\"Defina o nível: \"))\n",
        "      if (nivel not in [1,2,3]):\n",
        "        print(\"Por favor, escolha um nível válido ...\")\n",
        "      else:\n",
        "        break\n",
        "    except ValueError:\n",
        "      print(\"Por favor, escolha um nível válido ...\")\n",
        "    \n",
        "\n",
        "  if(nivel == 1):\n",
        "    total_tentativas = 12\n",
        "  elif(nivel == 2):\n",
        "    total_tentativas = 9\n",
        "  else:\n",
        "    total_tentativas = 6\n",
        "\n",
        "  for rodada in range(1, total_tentativas + 1):\n",
        "    print(\"\\nTentativa {} de {}\".format(rodada, total_tentativas))\n",
        "\n",
        "    while(True):\n",
        "      try:\n",
        "        chute = int(input(\"Digite um número entre 1 e 100: \"))\n",
        "        print('Voce digitou {}'.format(chute))\n",
        "        if(chute < 1 or chute > 100):\n",
        "          print('Digite um valor válido ...')\n",
        "        else:\n",
        "          break\n",
        "      except ValueError:\n",
        "        print('Digite um valor válido ...')\n",
        "\n",
        "    acertou = chute == numero_secreto\n",
        "    maior = chute > numero_secreto\n",
        "    menor = chute < numero_secreto\n",
        "\n",
        "    if(acertou):\n",
        "      print(\"Você acertou e fez {} pontos!\".format(pontos))\n",
        "      break\n",
        "    else:\n",
        "      pontos_perdidos = abs(numero_secreto - chute)\n",
        "      pontos = pontos - pontos_perdidos\n",
        "      if(maior):\n",
        "        print(\"O seu chute foi maior que o número secreto\")\n",
        "      elif(menor):\n",
        "        print(\"Você errou! O seu chute foi menor do que o número secreto.\")\n",
        "      if(rodada == total_tentativas):\n",
        "        print(\"O número secreto era {}. Você fez {} pontos!\".format(numero_secreto, pontos))\n",
        "\n",
        "  print(\"\\nFim do jogo\")\n",
        "\n",
        "#### DEFINIÇÃO FORCA ####\n",
        "\n",
        "def forca():\n",
        "\n",
        "  import random\n",
        "\n",
        "  print(\"*********************************\")\n",
        "  print(\"***Bem vindo ao jogo da Forca!***\")\n",
        "  print(\"*********************************\")\n",
        "\n",
        "  pool_palavra_secreta = ['banana','mamao','morango','abacaxi','melancia','carambola','laranja','pera','limao','caqui','kiwi','ameixa','coco','pessego','abacate','acai','acerola','amora','cacau','caja','caqui','cereja','cupuacu','figo','framboesa','goiaba','groselha','jabuticaba','jaca','maça'] \n",
        "  palavra_secreta = pool_palavra_secreta[random.randrange(0, len(pool_palavra_secreta))].upper()\n",
        "\n",
        "  letras_acertadas = ['_' for letra in palavra_secreta]\n",
        "\n",
        "  enforcou = False\n",
        "  acertou = False\n",
        "  erros = 0\n",
        "\n",
        "  print('\\nA palavra secreta tem o seguinte formato:\\n{}\\n'.format(letras_acertadas))\n",
        "\n",
        "  while(not acertou):\n",
        "    \n",
        "    chute = input('Chute uma letra:').strip().upper()\n",
        "\n",
        "    if (chute in palavra_secreta):\n",
        "      index = 0\n",
        "      for letra in palavra_secreta:\n",
        "        if (chute == letra):\n",
        "          letras_acertadas[index] = letra\n",
        "        index += 1\n",
        "    else:\n",
        "      erros +=1\n",
        "      enforcou = erros == 6\n",
        "      if (enforcou):\n",
        "        break\n",
        "      print('Você errou! A letra {} não faz parte da palavra secreta. Restam {} tentativas!\\n'.format(chute, 6-erros))\n",
        "    \n",
        "    \n",
        "    acertou = '_' not in letras_acertadas\n",
        "    print(letras_acertadas,'\\n')\n",
        "\n",
        "  if (acertou):\n",
        "    print('Você ganhou!')\n",
        "  else:\n",
        "    print('\\nFORCA! Você perdeu!\\nE a palavra secreta era...\\n\\n{}'.format(palavra_secreta))\n",
        "\n",
        "  print(\"\\nFim do jogo\")\n"
      ],
      "execution_count": 14,
      "outputs": []
    },
    {
      "cell_type": "code",
      "metadata": {
        "id": "mr6q9dHBaOjZ"
      },
      "source": [
        "#### INICIALIZAÇÃO DO JOGO ####\n",
        "\n",
        "print(\"*********************************\")\n",
        "print(\"*******Escolha o seu jogo!*******\")\n",
        "print(\"*********************************\")\n",
        "\n",
        "jogo = 10\n",
        "\n",
        "while(jogo != 0):\n",
        "\n",
        "  print(\"\\n(1) Forca (2) Adivinhação (0) Para finalizar\")\n",
        "  jogo = int(input(\"Qual jogo? \"))\n",
        "  print('')\n",
        "  if (jogo == 1):\n",
        "      forca()\n",
        "  elif (jogo == 2):\n",
        "      adivinhacao()\n",
        "\n",
        "print('Obrigado por jogar!')"
      ],
      "execution_count": null,
      "outputs": []
    }
  ]
}